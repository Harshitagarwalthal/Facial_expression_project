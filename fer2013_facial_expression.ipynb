{
 "cells": [
  {
   "cell_type": "code",
   "execution_count": 8,
   "metadata": {},
   "outputs": [],
   "source": [
    "import numpy as np\n"
   ]
  },
  {
   "cell_type": "code",
   "execution_count": 9,
   "metadata": {},
   "outputs": [],
   "source": [
    "import pandas as pd"
   ]
  },
  {
   "cell_type": "code",
   "execution_count": 10,
   "metadata": {},
   "outputs": [],
   "source": [
    "import tensorflow as tf\n",
    "from tensorflow import keras\n",
    "import matplotlib.pyplot as plt\n",
    "%matplotlib inline"
   ]
  },
  {
   "cell_type": "code",
   "execution_count": 11,
   "metadata": {
    "scrolled": true
   },
   "outputs": [
    {
     "name": "stdout",
     "output_type": "stream",
     "text": [
      "       emotion                                             pixels        Usage\n",
      "0            0  70 80 82 72 58 58 60 63 54 58 60 48 89 115 121...     Training\n",
      "1            0  151 150 147 155 148 133 111 140 170 174 182 15...     Training\n",
      "2            2  231 212 156 164 174 138 161 173 182 200 106 38...     Training\n",
      "3            4  24 32 36 30 32 23 19 20 30 41 21 22 32 34 21 1...     Training\n",
      "4            6  4 0 0 0 0 0 0 0 0 0 0 0 3 15 23 28 48 50 58 84...     Training\n",
      "...        ...                                                ...          ...\n",
      "35882        6  50 36 17 22 23 29 33 39 34 37 37 37 39 43 48 5...  PrivateTest\n",
      "35883        3  178 174 172 173 181 188 191 194 196 199 200 20...  PrivateTest\n",
      "35884        0  17 17 16 23 28 22 19 17 25 26 20 24 31 19 27 9...  PrivateTest\n",
      "35885        3  30 28 28 29 31 30 42 68 79 81 77 67 67 71 63 6...  PrivateTest\n",
      "35886        2  19 13 14 12 13 16 21 33 50 57 71 84 97 108 122...  PrivateTest\n",
      "\n",
      "[35887 rows x 3 columns]\n"
     ]
    }
   ],
   "source": [
    "data = pd.read_csv(r\"C:\\Users\\harshit\\OneDrive\\Desktop\\mydata\\bvc\\fer2013.csv\")\n",
    "print(data)"
   ]
  },
  {
   "cell_type": "code",
   "execution_count": null,
   "metadata": {},
   "outputs": [],
   "source": []
  },
  {
   "cell_type": "code",
   "execution_count": 12,
   "metadata": {},
   "outputs": [
    {
     "data": {
      "text/html": [
       "<div>\n",
       "<style scoped>\n",
       "    .dataframe tbody tr th:only-of-type {\n",
       "        vertical-align: middle;\n",
       "    }\n",
       "\n",
       "    .dataframe tbody tr th {\n",
       "        vertical-align: top;\n",
       "    }\n",
       "\n",
       "    .dataframe thead th {\n",
       "        text-align: right;\n",
       "    }\n",
       "</style>\n",
       "<table border=\"1\" class=\"dataframe\">\n",
       "  <thead>\n",
       "    <tr style=\"text-align: right;\">\n",
       "      <th></th>\n",
       "      <th>emotion</th>\n",
       "    </tr>\n",
       "  </thead>\n",
       "  <tbody>\n",
       "    <tr>\n",
       "      <th>count</th>\n",
       "      <td>35887.000000</td>\n",
       "    </tr>\n",
       "    <tr>\n",
       "      <th>mean</th>\n",
       "      <td>3.323265</td>\n",
       "    </tr>\n",
       "    <tr>\n",
       "      <th>std</th>\n",
       "      <td>1.873819</td>\n",
       "    </tr>\n",
       "    <tr>\n",
       "      <th>min</th>\n",
       "      <td>0.000000</td>\n",
       "    </tr>\n",
       "    <tr>\n",
       "      <th>25%</th>\n",
       "      <td>2.000000</td>\n",
       "    </tr>\n",
       "    <tr>\n",
       "      <th>50%</th>\n",
       "      <td>3.000000</td>\n",
       "    </tr>\n",
       "    <tr>\n",
       "      <th>75%</th>\n",
       "      <td>5.000000</td>\n",
       "    </tr>\n",
       "    <tr>\n",
       "      <th>max</th>\n",
       "      <td>6.000000</td>\n",
       "    </tr>\n",
       "  </tbody>\n",
       "</table>\n",
       "</div>"
      ],
      "text/plain": [
       "            emotion\n",
       "count  35887.000000\n",
       "mean       3.323265\n",
       "std        1.873819\n",
       "min        0.000000\n",
       "25%        2.000000\n",
       "50%        3.000000\n",
       "75%        5.000000\n",
       "max        6.000000"
      ]
     },
     "execution_count": 12,
     "metadata": {},
     "output_type": "execute_result"
    }
   ],
   "source": [
    "data.describe()"
   ]
  },
  {
   "cell_type": "code",
   "execution_count": 13,
   "metadata": {},
   "outputs": [
    {
     "name": "stdout",
     "output_type": "stream",
     "text": [
      "<class 'pandas.core.frame.DataFrame'>\n",
      "RangeIndex: 35887 entries, 0 to 35886\n",
      "Data columns (total 3 columns):\n",
      " #   Column   Non-Null Count  Dtype \n",
      "---  ------   --------------  ----- \n",
      " 0   emotion  35887 non-null  int64 \n",
      " 1   pixels   35887 non-null  object\n",
      " 2   Usage    35887 non-null  object\n",
      "dtypes: int64(1), object(2)\n",
      "memory usage: 841.2+ KB\n"
     ]
    }
   ],
   "source": [
    "data.info()"
   ]
  },
  {
   "cell_type": "code",
   "execution_count": 14,
   "metadata": {},
   "outputs": [],
   "source": [
    "X = data.pixels.apply(lambda i:np.array(i.split(' ')).reshape(48,48,1).astype('float'))/255\n"
   ]
  },
  {
   "cell_type": "code",
   "execution_count": 15,
   "metadata": {},
   "outputs": [
    {
     "data": {
      "text/plain": [
       "array([[[[0.2745098 ],\n",
       "         [0.31372549],\n",
       "         [0.32156863],\n",
       "         ...,\n",
       "         [0.20392157],\n",
       "         [0.16862745],\n",
       "         [0.16078431]],\n",
       "\n",
       "        [[0.25490196],\n",
       "         [0.23921569],\n",
       "         [0.22745098],\n",
       "         ...,\n",
       "         [0.21960784],\n",
       "         [0.20392157],\n",
       "         [0.17254902]],\n",
       "\n",
       "        [[0.19607843],\n",
       "         [0.16862745],\n",
       "         [0.21176471],\n",
       "         ...,\n",
       "         [0.19215686],\n",
       "         [0.21960784],\n",
       "         [0.18431373]],\n",
       "\n",
       "        ...,\n",
       "\n",
       "        [[0.35686275],\n",
       "         [0.25490196],\n",
       "         [0.16470588],\n",
       "         ...,\n",
       "         [0.28235294],\n",
       "         [0.21960784],\n",
       "         [0.16862745]],\n",
       "\n",
       "        [[0.30196078],\n",
       "         [0.32156863],\n",
       "         [0.30980392],\n",
       "         ...,\n",
       "         [0.41176471],\n",
       "         [0.2745098 ],\n",
       "         [0.18039216]],\n",
       "\n",
       "        [[0.30196078],\n",
       "         [0.28235294],\n",
       "         [0.32941176],\n",
       "         ...,\n",
       "         [0.41568627],\n",
       "         [0.42745098],\n",
       "         [0.32156863]]],\n",
       "\n",
       "\n",
       "       [[[0.59215686],\n",
       "         [0.58823529],\n",
       "         [0.57647059],\n",
       "         ...,\n",
       "         [0.50588235],\n",
       "         [0.54901961],\n",
       "         [0.47058824]],\n",
       "\n",
       "        [[0.59215686],\n",
       "         [0.58431373],\n",
       "         [0.58431373],\n",
       "         ...,\n",
       "         [0.47843137],\n",
       "         [0.55294118],\n",
       "         [0.5372549 ]],\n",
       "\n",
       "        [[0.59215686],\n",
       "         [0.59215686],\n",
       "         [0.61176471],\n",
       "         ...,\n",
       "         [0.42745098],\n",
       "         [0.48235294],\n",
       "         [0.57254902]],\n",
       "\n",
       "        ...,\n",
       "\n",
       "        [[0.7372549 ],\n",
       "         [0.7372549 ],\n",
       "         [0.4745098 ],\n",
       "         ...,\n",
       "         [0.7254902 ],\n",
       "         [0.7254902 ],\n",
       "         [0.72941176]],\n",
       "\n",
       "        [[0.7372549 ],\n",
       "         [0.73333333],\n",
       "         [0.76862745],\n",
       "         ...,\n",
       "         [0.72941176],\n",
       "         [0.71372549],\n",
       "         [0.73333333]],\n",
       "\n",
       "        [[0.72941176],\n",
       "         [0.72156863],\n",
       "         [0.7254902 ],\n",
       "         ...,\n",
       "         [0.75686275],\n",
       "         [0.71764706],\n",
       "         [0.72156863]]],\n",
       "\n",
       "\n",
       "       [[[0.90588235],\n",
       "         [0.83137255],\n",
       "         [0.61176471],\n",
       "         ...,\n",
       "         [0.17254902],\n",
       "         [0.10588235],\n",
       "         [0.0627451 ]],\n",
       "\n",
       "        [[0.89803922],\n",
       "         [0.68627451],\n",
       "         [0.58039216],\n",
       "         ...,\n",
       "         [0.10588235],\n",
       "         [0.1372549 ],\n",
       "         [0.10588235]],\n",
       "\n",
       "        [[0.83921569],\n",
       "         [0.61176471],\n",
       "         [0.61568627],\n",
       "         ...,\n",
       "         [0.10980392],\n",
       "         [0.08627451],\n",
       "         [0.10980392]],\n",
       "\n",
       "        ...,\n",
       "\n",
       "        [[0.94509804],\n",
       "         [0.96078431],\n",
       "         [0.98039216],\n",
       "         ...,\n",
       "         [0.22352941],\n",
       "         [0.39607843],\n",
       "         [0.57254902]],\n",
       "\n",
       "        [[0.96470588],\n",
       "         [0.98039216],\n",
       "         [0.98823529],\n",
       "         ...,\n",
       "         [0.30588235],\n",
       "         [0.41176471],\n",
       "         [0.63529412]],\n",
       "\n",
       "        [[0.98039216],\n",
       "         [0.98431373],\n",
       "         [0.98039216],\n",
       "         ...,\n",
       "         [0.34509804],\n",
       "         [0.43137255],\n",
       "         [0.59607843]]],\n",
       "\n",
       "\n",
       "       ...,\n",
       "\n",
       "\n",
       "       [[[0.06666667],\n",
       "         [0.06666667],\n",
       "         [0.0627451 ],\n",
       "         ...,\n",
       "         [0.3254902 ],\n",
       "         [0.44705882],\n",
       "         [0.96078431]],\n",
       "\n",
       "        [[0.07058824],\n",
       "         [0.06666667],\n",
       "         [0.0627451 ],\n",
       "         ...,\n",
       "         [0.40784314],\n",
       "         [0.53333333],\n",
       "         [0.99215686]],\n",
       "\n",
       "        [[0.0745098 ],\n",
       "         [0.0627451 ],\n",
       "         [0.06666667],\n",
       "         ...,\n",
       "         [0.50196078],\n",
       "         [0.59607843],\n",
       "         [1.        ]],\n",
       "\n",
       "        ...,\n",
       "\n",
       "        [[0.01568627],\n",
       "         [0.08235294],\n",
       "         [0.18039216],\n",
       "         ...,\n",
       "         [0.72941176],\n",
       "         [0.70588235],\n",
       "         [0.73333333]],\n",
       "\n",
       "        [[0.01960784],\n",
       "         [0.06666667],\n",
       "         [0.16078431],\n",
       "         ...,\n",
       "         [0.69411765],\n",
       "         [0.6745098 ],\n",
       "         [0.69019608]],\n",
       "\n",
       "        [[0.07843137],\n",
       "         [0.05882353],\n",
       "         [0.08627451],\n",
       "         ...,\n",
       "         [0.60392157],\n",
       "         [0.52156863],\n",
       "         [0.44313725]]],\n",
       "\n",
       "\n",
       "       [[[0.11764706],\n",
       "         [0.10980392],\n",
       "         [0.10980392],\n",
       "         ...,\n",
       "         [0.23529412],\n",
       "         [0.19607843],\n",
       "         [0.17254902]],\n",
       "\n",
       "        [[0.11764706],\n",
       "         [0.10588235],\n",
       "         [0.10980392],\n",
       "         ...,\n",
       "         [0.25098039],\n",
       "         [0.20392157],\n",
       "         [0.15686275]],\n",
       "\n",
       "        [[0.12156863],\n",
       "         [0.10980392],\n",
       "         [0.11764706],\n",
       "         ...,\n",
       "         [0.23921569],\n",
       "         [0.21176471],\n",
       "         [0.14509804]],\n",
       "\n",
       "        ...,\n",
       "\n",
       "        [[0.40784314],\n",
       "         [0.42745098],\n",
       "         [0.43137255],\n",
       "         ...,\n",
       "         [0.1372549 ],\n",
       "         [0.11764706],\n",
       "         [0.11764706]],\n",
       "\n",
       "        [[0.4       ],\n",
       "         [0.41176471],\n",
       "         [0.42352941],\n",
       "         ...,\n",
       "         [0.1372549 ],\n",
       "         [0.12156863],\n",
       "         [0.11372549]],\n",
       "\n",
       "        [[0.36470588],\n",
       "         [0.37647059],\n",
       "         [0.39215686],\n",
       "         ...,\n",
       "         [0.1372549 ],\n",
       "         [0.11764706],\n",
       "         [0.10980392]]],\n",
       "\n",
       "\n",
       "       [[[0.0745098 ],\n",
       "         [0.05098039],\n",
       "         [0.05490196],\n",
       "         ...,\n",
       "         [0.42352941],\n",
       "         [0.37254902],\n",
       "         [0.3372549 ]],\n",
       "\n",
       "        [[0.0627451 ],\n",
       "         [0.06666667],\n",
       "         [0.05882353],\n",
       "         ...,\n",
       "         [0.41176471],\n",
       "         [0.36862745],\n",
       "         [0.35294118]],\n",
       "\n",
       "        [[0.03921569],\n",
       "         [0.03529412],\n",
       "         [0.03921569],\n",
       "         ...,\n",
       "         [0.39607843],\n",
       "         [0.36470588],\n",
       "         [0.37254902]],\n",
       "\n",
       "        ...,\n",
       "\n",
       "        [[0.07058824],\n",
       "         [0.05490196],\n",
       "         [0.0627451 ],\n",
       "         ...,\n",
       "         [0.21568627],\n",
       "         [0.25098039],\n",
       "         [0.37254902]],\n",
       "\n",
       "        [[0.05882353],\n",
       "         [0.05882353],\n",
       "         [0.05098039],\n",
       "         ...,\n",
       "         [0.48235294],\n",
       "         [0.67058824],\n",
       "         [0.75294118]],\n",
       "\n",
       "        [[0.0627451 ],\n",
       "         [0.05490196],\n",
       "         [0.05098039],\n",
       "         ...,\n",
       "         [0.74117647],\n",
       "         [0.78039216],\n",
       "         [0.78823529]]]])"
      ]
     },
     "execution_count": 15,
     "metadata": {},
     "output_type": "execute_result"
    }
   ],
   "source": [
    "X = np.stack(X)\n",
    "X"
   ]
  },
  {
   "cell_type": "code",
   "execution_count": 16,
   "metadata": {},
   "outputs": [
    {
     "name": "stdout",
     "output_type": "stream",
     "text": [
      "Requirement already satisfied: sklearn in c:\\users\\harshit\\anaconda3\\envs\\gpu\\lib\\site-packages (0.0)\n",
      "Requirement already satisfied: scikit-learn in c:\\users\\harshit\\anaconda3\\envs\\gpu\\lib\\site-packages (from sklearn) (0.24.2)\n",
      "Requirement already satisfied: joblib>=0.11 in c:\\users\\harshit\\anaconda3\\envs\\gpu\\lib\\site-packages (from scikit-learn->sklearn) (1.0.1)\n",
      "Requirement already satisfied: threadpoolctl>=2.0.0 in c:\\users\\harshit\\anaconda3\\envs\\gpu\\lib\\site-packages (from scikit-learn->sklearn) (2.2.0)\n",
      "Requirement already satisfied: scipy>=0.19.1 in c:\\users\\harshit\\anaconda3\\envs\\gpu\\lib\\site-packages (from scikit-learn->sklearn) (1.5.2)\n",
      "Requirement already satisfied: numpy>=1.13.3 in c:\\users\\harshit\\anaconda3\\envs\\gpu\\lib\\site-packages (from scikit-learn->sklearn) (1.19.2)\n"
     ]
    }
   ],
   "source": [
    "y = data['emotion']\n",
    "y\n",
    "!pip install sklearn"
   ]
  },
  {
   "cell_type": "code",
   "execution_count": 17,
   "metadata": {},
   "outputs": [],
   "source": [
    "from sklearn.model_selection import train_test_split\n",
    "x_train, x_test, y_train, y_test = train_test_split(X, y, test_size=0.2)"
   ]
  },
  {
   "cell_type": "code",
   "execution_count": 18,
   "metadata": {},
   "outputs": [
    {
     "data": {
      "text/plain": [
       "array([[0., 0., 0., ..., 0., 0., 0.],\n",
       "       [0., 0., 1., ..., 0., 0., 0.],\n",
       "       [0., 0., 0., ..., 0., 0., 0.],\n",
       "       ...,\n",
       "       [1., 0., 0., ..., 0., 0., 0.],\n",
       "       [1., 0., 0., ..., 0., 0., 0.],\n",
       "       [0., 0., 1., ..., 0., 0., 0.]], dtype=float32)"
      ]
     },
     "execution_count": 18,
     "metadata": {},
     "output_type": "execute_result"
    }
   ],
   "source": [
    "y_train = keras.utils.to_categorical(y_train,7)\n",
    "y_test = keras.utils.to_categorical(y_test,7)\n",
    "y_test"
   ]
  },
  {
   "cell_type": "code",
   "execution_count": 19,
   "metadata": {},
   "outputs": [],
   "source": [
    "input_shape = (48,48,1)\n",
    "\n",
    "model = keras.Sequential(\n",
    "        [\n",
    "        keras.layers.InputLayer(input_shape=input_shape),\n",
    "        keras.layers.Conv2D(64,kernel_size=(3,3),activation='relu'),\n",
    "        keras.layers.MaxPooling2D(pool_size=(2,2)),\n",
    "        keras.layers.BatchNormalization(),\n",
    "            \n",
    "        keras.layers.Conv2D(128,kernel_size=(3,3),activation='relu'),\n",
    "        keras.layers.MaxPooling2D(pool_size=(2,2)),\n",
    "        keras.layers.BatchNormalization(),\n",
    "    \n",
    "        keras.layers.Conv2D(256,kernel_size=(3,3),activation='relu'),\n",
    "        keras.layers.MaxPooling2D(pool_size=(2,2)),\n",
    "        keras.layers.BatchNormalization(),\n",
    "    \n",
    "        keras.layers.Conv2D(512,kernel_size=(3,3),activation='relu'),\n",
    "        keras.layers.MaxPooling2D(pool_size=(2,2)),\n",
    "        keras.layers.BatchNormalization(),\n",
    "    \n",
    "        keras.layers.Flatten(),\n",
    "        keras.layers.Dropout(0.3),\n",
    "        keras.layers.Dense(7,activation=\"softmax\")\n",
    "        ]\n",
    "     ) "
   ]
  },
  {
   "cell_type": "code",
   "execution_count": 20,
   "metadata": {},
   "outputs": [
    {
     "name": "stdout",
     "output_type": "stream",
     "text": [
      "Model: \"sequential\"\n",
      "_________________________________________________________________\n",
      "Layer (type)                 Output Shape              Param #   \n",
      "=================================================================\n",
      "conv2d (Conv2D)              (None, 46, 46, 64)        640       \n",
      "_________________________________________________________________\n",
      "max_pooling2d (MaxPooling2D) (None, 23, 23, 64)        0         \n",
      "_________________________________________________________________\n",
      "batch_normalization (BatchNo (None, 23, 23, 64)        256       \n",
      "_________________________________________________________________\n",
      "conv2d_1 (Conv2D)            (None, 21, 21, 128)       73856     \n",
      "_________________________________________________________________\n",
      "max_pooling2d_1 (MaxPooling2 (None, 10, 10, 128)       0         \n",
      "_________________________________________________________________\n",
      "batch_normalization_1 (Batch (None, 10, 10, 128)       512       \n",
      "_________________________________________________________________\n",
      "conv2d_2 (Conv2D)            (None, 8, 8, 256)         295168    \n",
      "_________________________________________________________________\n",
      "max_pooling2d_2 (MaxPooling2 (None, 4, 4, 256)         0         \n",
      "_________________________________________________________________\n",
      "batch_normalization_2 (Batch (None, 4, 4, 256)         1024      \n",
      "_________________________________________________________________\n",
      "conv2d_3 (Conv2D)            (None, 2, 2, 512)         1180160   \n",
      "_________________________________________________________________\n",
      "max_pooling2d_3 (MaxPooling2 (None, 1, 1, 512)         0         \n",
      "_________________________________________________________________\n",
      "batch_normalization_3 (Batch (None, 1, 1, 512)         2048      \n",
      "_________________________________________________________________\n",
      "flatten (Flatten)            (None, 512)               0         \n",
      "_________________________________________________________________\n",
      "dropout (Dropout)            (None, 512)               0         \n",
      "_________________________________________________________________\n",
      "dense (Dense)                (None, 7)                 3591      \n",
      "=================================================================\n",
      "Total params: 1,557,255\n",
      "Trainable params: 1,555,335\n",
      "Non-trainable params: 1,920\n",
      "_________________________________________________________________\n"
     ]
    }
   ],
   "source": [
    "model.summary()"
   ]
  },
  {
   "cell_type": "code",
   "execution_count": 21,
   "metadata": {},
   "outputs": [
    {
     "name": "stdout",
     "output_type": "stream",
     "text": [
      "Train on 28709 samples\n",
      "Epoch 1/15\n",
      "28709/28709 [==============================] - 35s 1ms/sample - loss: 1.6937 - accuracy: 0.3927\n",
      "Epoch 2/15\n",
      "28709/28709 [==============================] - 20s 690us/sample - loss: 1.2797 - accuracy: 0.5223\n",
      "Epoch 3/15\n",
      "28709/28709 [==============================] - 20s 691us/sample - loss: 1.1222 - accuracy: 0.5799\n",
      "Epoch 4/15\n",
      "28709/28709 [==============================] - 20s 695us/sample - loss: 0.9925 - accuracy: 0.6303\n",
      "Epoch 5/15\n",
      "28709/28709 [==============================] - 20s 703us/sample - loss: 0.8567 - accuracy: 0.6824- loss: 0.8567 - accuracy: 0.\n",
      "Epoch 6/15\n",
      "28709/28709 [==============================] - 20s 696us/sample - loss: 0.6867 - accuracy: 0.7513- loss:\n",
      "Epoch 7/15\n",
      "28709/28709 [==============================] - 20s 699us/sample - loss: 0.5229 - accuracy: 0.8138\n",
      "Epoch 8/15\n",
      "28709/28709 [==============================] - 20s 699us/sample - loss: 0.3873 - accuracy: 0.8635\n",
      "Epoch 9/15\n",
      "28709/28709 [==============================] - 20s 695us/sample - loss: 0.3072 - accuracy: 0.8929\n",
      "Epoch 10/15\n",
      "28709/28709 [==============================] - 20s 696us/sample - loss: 0.2555 - accuracy: 0.9108- loss: 0.2551 - accuracy: \n",
      "Epoch 11/15\n",
      "28709/28709 [==============================] - 20s 694us/sample - loss: 0.2117 - accuracy: 0.9293\n",
      "Epoch 12/15\n",
      "28709/28709 [==============================] - 20s 696us/sample - loss: 0.2015 - accuracy: 0.9315\n",
      "Epoch 13/15\n",
      "28709/28709 [==============================] - 20s 696us/sample - loss: 0.1868 - accuracy: 0.9388\n",
      "Epoch 14/15\n",
      "28709/28709 [==============================] - 20s 695us/sample - loss: 0.1642 - accuracy: 0.9469\n",
      "Epoch 15/15\n",
      "28709/28709 [==============================] - 20s 693us/sample - loss: 0.1587 - accuracy: 0.9487\n"
     ]
    },
    {
     "data": {
      "text/plain": [
       "<tensorflow.python.keras.callbacks.History at 0x223969c4630>"
      ]
     },
     "execution_count": 21,
     "metadata": {},
     "output_type": "execute_result"
    }
   ],
   "source": [
    "model.compile(\n",
    "    optimizer='adam',\n",
    "    loss='categorical_crossentropy',\n",
    "    metrics=['accuracy']\n",
    ")\n",
    "model.fit(x_train, y_train, epochs=15)"
   ]
  },
  {
   "cell_type": "code",
   "execution_count": 22,
   "metadata": {},
   "outputs": [
    {
     "data": {
      "text/plain": [
       "[0.10464787394484384, 0.9704971]"
      ]
     },
     "execution_count": 22,
     "metadata": {},
     "output_type": "execute_result"
    }
   ],
   "source": [
    "model.evaluate(x_train,y_train,verbose=0)"
   ]
  },
  {
   "cell_type": "code",
   "execution_count": 23,
   "metadata": {},
   "outputs": [],
   "source": [
    "y_predicted = model.predict(x_test)\n",
    "        "
   ]
  },
  {
   "cell_type": "code",
   "execution_count": 24,
   "metadata": {},
   "outputs": [
    {
     "data": {
      "text/plain": [
       "array([9.74891122e-07, 1.37020983e-09, 1.49520665e-05, 9.99981403e-01,\n",
       "       1.05628928e-08, 1.57648947e-06, 1.14281409e-06], dtype=float32)"
      ]
     },
     "execution_count": 24,
     "metadata": {},
     "output_type": "execute_result"
    }
   ],
   "source": [
    "y_predicted[0]\n"
   ]
  },
  {
   "cell_type": "code",
   "execution_count": 25,
   "metadata": {},
   "outputs": [
    {
     "data": {
      "text/plain": [
       "3"
      ]
     },
     "execution_count": 25,
     "metadata": {},
     "output_type": "execute_result"
    }
   ],
   "source": [
    "np.argmax(y_predicted[0])"
   ]
  },
  {
   "cell_type": "code",
   "execution_count": 26,
   "metadata": {},
   "outputs": [],
   "source": [
    "y_predicted_labels = [np.argmax(i) for i in y_predicted ]"
   ]
  },
  {
   "cell_type": "code",
   "execution_count": 27,
   "metadata": {},
   "outputs": [
    {
     "data": {
      "text/plain": [
       "[3, 2, 0, 5, 5]"
      ]
     },
     "execution_count": 27,
     "metadata": {},
     "output_type": "execute_result"
    }
   ],
   "source": [
    "y_predicted_labels[:5]"
   ]
  },
  {
   "cell_type": "code",
   "execution_count": 28,
   "metadata": {},
   "outputs": [
    {
     "data": {
      "text/plain": [
       "<matplotlib.image.AxesImage at 0x2239f917278>"
      ]
     },
     "execution_count": 28,
     "metadata": {},
     "output_type": "execute_result"
    },
    {
     "data": {
      "image/png": "[encoded data removed]",
      "text/plain": [
       "<Figure size 288x288 with 1 Axes>"
      ]
     },
     "metadata": {
      "needs_background": "light"
     },
     "output_type": "display_data"
    }
   ],
   "source": [
    "plt.matshow(x_test[0])\n"
   ]
  },
  {
   "cell_type": "code",
   "execution_count": 29,
   "metadata": {},
   "outputs": [
    {
     "data": {
      "text/plain": [
       "<matplotlib.image.AxesImage at 0x223a0a18550>"
      ]
     },
     "execution_count": 29,
     "metadata": {},
     "output_type": "execute_result"
    },
    {
     "data": {
      "image/png": "[encoded data removed]",
      "text/plain": [
       "<Figure size 288x288 with 1 Axes>"
      ]
     },
     "metadata": {
      "needs_background": "light"
     },
     "output_type": "display_data"
    }
   ],
   "source": [
    "plt.matshow(x_test[1])"
   ]
  },
  {
   "cell_type": "code",
   "execution_count": 30,
   "metadata": {},
   "outputs": [
    {
     "data": {
      "text/plain": [
       "<matplotlib.image.AxesImage at 0x223a45ef320>"
      ]
     },
     "execution_count": 30,
     "metadata": {},
     "output_type": "execute_result"
    },
    {
     "data": {
      "image/png": "[encoded data removed]",
      "text/plain": [
       "<Figure size 432x288 with 1 Axes>"
      ]
     },
     "metadata": {
      "needs_background": "light"
     },
     "output_type": "display_data"
    }
   ],
   "source": [
    "plt.imshow(x_train[1].reshape(48,48))"
   ]
  },
  {
   "cell_type": "code",
   "execution_count": 31,
   "metadata": {},
   "outputs": [
    {
     "data": {
      "text/plain": [
       "<matplotlib.image.AxesImage at 0x223a464a320>"
      ]
     },
     "execution_count": 31,
     "metadata": {},
     "output_type": "execute_result"
    },
    {
     "data": {
      "image/png": "[encoded data removed]",
      "text/plain": [
       "<Figure size 288x288 with 1 Axes>"
      ]
     },
     "metadata": {
      "needs_background": "light"
     },
     "output_type": "display_data"
    }
   ],
   "source": [
    "plt.matshow(x_test[2])"
   ]
  },
  {
   "cell_type": "code",
   "execution_count": 32,
   "metadata": {},
   "outputs": [
    {
     "data": {
      "text/plain": [
       "<matplotlib.image.AxesImage at 0x223a48f9080>"
      ]
     },
     "execution_count": 32,
     "metadata": {},
     "output_type": "execute_result"
    },
    {
     "data": {
      "image/png": "[encoded data removed]",
      "text/plain": [
       "<Figure size 288x288 with 1 Axes>"
      ]
     },
     "metadata": {
      "needs_background": "light"
     },
     "output_type": "display_data"
    }
   ],
   "source": [
    "plt.matshow(x_test[3])"
   ]
  },
  {
   "cell_type": "code",
   "execution_count": 27,
   "metadata": {},
   "outputs": [
    {
     "data": {
      "text/plain": [
       "<matplotlib.image.AxesImage at 0x27c26fb0710>"
      ]
     },
     "execution_count": 27,
     "metadata": {},
     "output_type": "execute_result"
    },
    {
     "data": {
      "image/png": "[encoded data removed]",
      "text/plain": [
       "<Figure size 288x288 with 1 Axes>"
      ]
     },
     "metadata": {
      "needs_background": "light"
     },
     "output_type": "display_data"
    }
   ],
   "source": [
    "plt.matshow(x_test[4])"
   ]
  },
  {
   "cell_type": "code",
   "execution_count": 33,
   "metadata": {},
   "outputs": [
    {
     "data": {
      "text/plain": [
       "array([0., 0., 0., 1., 0., 0., 0.], dtype=float32)"
      ]
     },
     "execution_count": 33,
     "metadata": {},
     "output_type": "execute_result"
    }
   ],
   "source": [
    "y_test[0]"
   ]
  },
  {
   "cell_type": "code",
   "execution_count": 34,
   "metadata": {},
   "outputs": [
    {
     "data": {
      "text/plain": [
       "array([[0],\n",
       "       [1],\n",
       "       [2],\n",
       "       [3],\n",
       "       [4],\n",
       "       [5],\n",
       "       [6]])"
      ]
     },
     "execution_count": 34,
     "metadata": {},
     "output_type": "execute_result"
    }
   ],
   "source": [
    "temp = np.array([[0],[1],[2],[3],[4],[5],[6]])\n",
    "temp"
   ]
  },
  {
   "cell_type": "code",
   "execution_count": 35,
   "metadata": {},
   "outputs": [
    {
     "data": {
      "text/plain": [
       "(7178, 1)"
      ]
     },
     "execution_count": 35,
     "metadata": {},
     "output_type": "execute_result"
    }
   ],
   "source": [
    "y_test_reshaped = np.dot(y_test,temp)\n",
    "y_test_reshaped.shape"
   ]
  },
  {
   "cell_type": "code",
   "execution_count": 36,
   "metadata": {},
   "outputs": [],
   "source": [
    "len(y_predicted_labels)\n",
    "y_predicted_labels_reshaped = np.array(y_predicted_labels)"
   ]
  },
  {
   "cell_type": "code",
   "execution_count": 37,
   "metadata": {},
   "outputs": [
    {
     "data": {
      "text/plain": [
       "(7178,)"
      ]
     },
     "execution_count": 37,
     "metadata": {},
     "output_type": "execute_result"
    }
   ],
   "source": [
    "y_predicted_labels[0:5]\n",
    "y_predicted_labels_reshaped.shape"
   ]
  },
  {
   "cell_type": "code",
   "execution_count": 38,
   "metadata": {},
   "outputs": [],
   "source": [
    "cm = tf.math.confusion_matrix(labels=y_test_reshaped,predictions=y_predicted_labels_reshaped)"
   ]
  },
  {
   "cell_type": "code",
   "execution_count": 39,
   "metadata": {},
   "outputs": [
    {
     "data": {
      "text/plain": [
       "<tf.Tensor: shape=(7, 7), dtype=int32, numpy=\n",
       "array([[ 382,   14,  132,  130,  167,   36,  124],\n",
       "       [  11,   50,   10,    9,   10,    0,    6],\n",
       "       [  87,    4,  434,  140,  190,   67,  111],\n",
       "       [  20,    0,   58, 1604,   61,   18,   95],\n",
       "       [  73,    6,  156,  135,  587,   13,  207],\n",
       "       [  17,    0,   87,   90,   13,  546,   37],\n",
       "       [  62,    1,  112,  201,  205,   10,  650]])>"
      ]
     },
     "execution_count": 39,
     "metadata": {},
     "output_type": "execute_result"
    }
   ],
   "source": [
    "cm"
   ]
  },
  {
   "cell_type": "code",
   "execution_count": 40,
   "metadata": {},
   "outputs": [
    {
     "name": "stdout",
     "output_type": "stream",
     "text": [
      "Requirement already satisfied: seaborn in c:\\users\\harshit\\anaconda3\\envs\\gpu\\lib\\site-packages (0.11.1)\n",
      "Requirement already satisfied: matplotlib>=2.2 in c:\\users\\harshit\\anaconda3\\envs\\gpu\\lib\\site-packages (from seaborn) (3.3.4)\n",
      "Requirement already satisfied: pandas>=0.23 in c:\\users\\harshit\\anaconda3\\envs\\gpu\\lib\\site-packages (from seaborn) (1.1.5)\n",
      "Requirement already satisfied: scipy>=1.0 in c:\\users\\harshit\\anaconda3\\envs\\gpu\\lib\\site-packages (from seaborn) (1.5.2)\n",
      "Requirement already satisfied: numpy>=1.15 in c:\\users\\harshit\\anaconda3\\envs\\gpu\\lib\\site-packages (from seaborn) (1.19.2)\n",
      "Requirement already satisfied: cycler>=0.10 in c:\\users\\harshit\\anaconda3\\envs\\gpu\\lib\\site-packages (from matplotlib>=2.2->seaborn) (0.10.0)\n",
      "Requirement already satisfied: pyparsing!=2.0.4,!=2.1.2,!=2.1.6,>=2.0.3 in c:\\users\\harshit\\anaconda3\\envs\\gpu\\lib\\site-packages (from matplotlib>=2.2->seaborn) (2.4.7)\n",
      "Requirement already satisfied: python-dateutil>=2.1 in c:\\users\\harshit\\anaconda3\\envs\\gpu\\lib\\site-packages (from matplotlib>=2.2->seaborn) (2.8.2)\n",
      "Requirement already satisfied: pillow>=6.2.0 in c:\\users\\harshit\\anaconda3\\envs\\gpu\\lib\\site-packages (from matplotlib>=2.2->seaborn) (8.3.1)\n",
      "Requirement already satisfied: kiwisolver>=1.0.1 in c:\\users\\harshit\\anaconda3\\envs\\gpu\\lib\\site-packages (from matplotlib>=2.2->seaborn) (1.3.1)\n",
      "Requirement already satisfied: six in c:\\users\\harshit\\anaconda3\\envs\\gpu\\lib\\site-packages (from cycler>=0.10->matplotlib>=2.2->seaborn) (1.16.0)\n",
      "Requirement already satisfied: pytz>=2017.2 in c:\\users\\harshit\\anaconda3\\envs\\gpu\\lib\\site-packages (from pandas>=0.23->seaborn) (2021.1)\n"
     ]
    }
   ],
   "source": [
    "!pip install seaborn\n"
   ]
  },
  {
   "cell_type": "code",
   "execution_count": 41,
   "metadata": {},
   "outputs": [
    {
     "data": {
      "text/plain": [
       "Text(69.0, 0.5, 'Truth')"
      ]
     },
     "execution_count": 41,
     "metadata": {},
     "output_type": "execute_result"
    },
    {
     "data": {
      "image/png": "[encoded data removed]",
      "text/plain": [
       "<Figure size 720x504 with 2 Axes>"
      ]
     },
     "metadata": {
      "needs_background": "light"
     },
     "output_type": "display_data"
    }
   ],
   "source": [
    "import seaborn as sn\n",
    "plt.figure(figsize = (10,7))\n",
    "sn.heatmap(cm,annot=True,fmt='d')\n",
    "plt.xlabel('Predicted')\n",
    "plt.ylabel('Truth')"
   ]
  },
  {
   "cell_type": "code",
   "execution_count": 42,
   "metadata": {},
   "outputs": [],
   "source": [
    "from sklearn.metrics import classification_report"
   ]
  },
  {
   "cell_type": "code",
   "execution_count": 43,
   "metadata": {},
   "outputs": [
    {
     "name": "stdout",
     "output_type": "stream",
     "text": [
      "              precision    recall  f1-score   support\n",
      "\n",
      "         0.0       0.59      0.39      0.47       985\n",
      "         1.0       0.67      0.52      0.58        96\n",
      "         2.0       0.44      0.42      0.43      1033\n",
      "         3.0       0.69      0.86      0.77      1856\n",
      "         4.0       0.48      0.50      0.49      1177\n",
      "         5.0       0.79      0.69      0.74       790\n",
      "         6.0       0.53      0.52      0.53      1241\n",
      "\n",
      "    accuracy                           0.59      7178\n",
      "   macro avg       0.60      0.56      0.57      7178\n",
      "weighted avg       0.59      0.59      0.58      7178\n",
      "\n"
     ]
    }
   ],
   "source": [
    "print(classification_report(y_test_reshaped,y_predicted_labels_reshaped))"
   ]
  },
  {
   "cell_type": "code",
   "execution_count": 41,
   "metadata": {},
   "outputs": [
    {
     "name": "stderr",
     "output_type": "stream",
     "text": [
      "ERROR: Could not find a version that satisfies the requirement npconvert (from versions: none)\n",
      "ERROR: No matching distribution found for npconvert\n"
     ]
    }
   ],
   "source": [
    "\n"
   ]
  },
  {
   "cell_type": "code",
   "execution_count": null,
   "metadata": {},
   "outputs": [],
   "source": []
  }
 ],
 "metadata": {
  "kernelspec": {
   "display_name": "Python 3",
   "language": "python",
   "name": "python3"
  },
  "language_info": {
   "codemirror_mode": {
    "name": "ipython",
    "version": 3
   },
   "file_extension": ".py",
   "mimetype": "text/x-python",
   "name": "python",
   "nbconvert_exporter": "python",
   "pygments_lexer": "ipython3",
   "version": "3.6.13"
  }
 },
 "nbformat": 4,
 "nbformat_minor": 4
}
